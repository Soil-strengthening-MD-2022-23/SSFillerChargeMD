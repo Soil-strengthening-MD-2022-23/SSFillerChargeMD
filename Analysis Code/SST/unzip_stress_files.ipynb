{
 "cells": [
  {
   "cell_type": "code",
   "execution_count": 3,
   "metadata": {},
   "outputs": [],
   "source": [
    "import pandas as pd"
   ]
  },
  {
   "cell_type": "markdown",
   "metadata": {},
   "source": [
    "In lines 1, 5, 9, 13, change the absolute path to the stress.out file input.\n",
    "\n",
    "In lines 3, 7, 11, 15, change the absolute path to the stressXXf.txt file output where XX is the filler concentration."
   ]
  },
  {
   "cell_type": "code",
   "execution_count": 4,
   "metadata": {},
   "outputs": [],
   "source": [
    "df1 = pd.read_csv(\"/media/jbzhang/Windows/Documents and Settings/jerry/Documents/Summer 2022/Garcia/Multi-scale Modeling/Soil-strengthening MD/Analysis Code/Data/q_2/25f_q2_restart/sst/stress.out\", sep='\\s+', header=None,index_col=False,names=['s_xx', 's_yy', 's_zz', 'n_stress'], usecols=['n_stress'], skiprows=1)\n",
    "df1['n_stress'] = df1['n_stress'] * (-1)\n",
    "df1['n_stress'].to_csv('/media/jbzhang/Windows/Documents and Settings/jerry/Documents/Summer 2022/Garcia/Multi-scale Modeling/Soil-strengthening MD/Analysis Code/Data/q_2/25f_q2_restart/sst/stress25f.txt', sep=' ',header=False, index=False, float_format='%.6f')\n",
    "\n",
    "df2 = pd.read_csv(\"/media/jbzhang/Windows/Documents and Settings/jerry/Documents/Summer 2022/Garcia/Multi-scale Modeling/Soil-strengthening MD/Analysis Code/Data/q_2/50f_q2_restart/sst/stress.out\", sep='\\s+', header=None,index_col=False,names=['s_xx', 's_yy', 's_zz', 'n_stress'], usecols=['n_stress'], skiprows=1)\n",
    "df2['n_stress'] = df2['n_stress'] * (-1)\n",
    "df2['n_stress'].to_csv('/media/jbzhang/Windows/Documents and Settings/jerry/Documents/Summer 2022/Garcia/Multi-scale Modeling/Soil-strengthening MD/Analysis Code/Data/q_2/50f_q2_restart/sst/stress50f.txt', sep=' ',header=False, index=False, float_format='%.6f')\n",
    "\n",
    "df3 = pd.read_csv(\"/media/jbzhang/Windows/Documents and Settings/jerry/Documents/Summer 2022/Garcia/Multi-scale Modeling/Soil-strengthening MD/Analysis Code/Data/q_2/75f_q2_restart/sst/stress.out\", sep='\\s+', header=None,index_col=False,names=['s_xx', 's_yy', 's_zz', 'n_stress'], usecols=['n_stress'], skiprows=1)\n",
    "df3['n_stress'] = df3['n_stress'] * (-1)\n",
    "df3['n_stress'].to_csv('/media/jbzhang/Windows/Documents and Settings/jerry/Documents/Summer 2022/Garcia/Multi-scale Modeling/Soil-strengthening MD/Analysis Code/Data/q_2/75f_q2_restart/sst/stress75f.txt', sep=' ',header=False, index=False, float_format='%.6f')\n",
    "\n",
    "df4 = pd.read_csv(\"/media/jbzhang/Windows/Documents and Settings/jerry/Documents/Summer 2022/Garcia/Multi-scale Modeling/Soil-strengthening MD/Analysis Code/Data/q_2/100f_q2_restart/sst/stress.out\", sep='\\s+', header=None,index_col=False,names=['s_xx', 's_yy', 's_zz', 'n_stress'], usecols=['n_stress'], skiprows=1)\n",
    "df4['n_stress'] = df4['n_stress'] * (-1)\n",
    "df4['n_stress'].to_csv('/media/jbzhang/Windows/Documents and Settings/jerry/Documents/Summer 2022/Garcia/Multi-scale Modeling/Soil-strengthening MD/Analysis Code/Data/q_2/100f_q2_restart/sst/stress100f.txt', sep=' ',header=False, index=False, float_format='%.6f')\n",
    "\n"
   ]
  },
  {
   "cell_type": "code",
   "execution_count": null,
   "metadata": {},
   "outputs": [],
   "source": []
  }
 ],
 "metadata": {
  "kernelspec": {
   "display_name": "Python 3.10.4 64-bit",
   "language": "python",
   "name": "python3"
  },
  "language_info": {
   "codemirror_mode": {
    "name": "ipython",
    "version": 3
   },
   "file_extension": ".py",
   "mimetype": "text/x-python",
   "name": "python",
   "nbconvert_exporter": "python",
   "pygments_lexer": "ipython3",
   "version": "3.10.4"
  },
  "vscode": {
   "interpreter": {
    "hash": "916dbcbb3f70747c44a77c7bcd40155683ae19c65e1c03b4aa3499c5328201f1"
   }
  }
 },
 "nbformat": 4,
 "nbformat_minor": 2
}
